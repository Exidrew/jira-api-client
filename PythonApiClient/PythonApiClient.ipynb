{
 "cells": [
  {
   "cell_type": "markdown",
   "metadata": {},
   "source": [
    "## Import Libraries"
   ]
  },
  {
   "cell_type": "code",
   "execution_count": 12,
   "metadata": {},
   "outputs": [],
   "source": [
    "import requests\n",
    "import json\n",
    "import pandas as pd\n",
    "import time\n",
    "import datetime"
   ]
  },
  {
   "cell_type": "markdown",
   "metadata": {},
   "source": [
    "## Configuration"
   ]
  },
  {
   "cell_type": "code",
   "execution_count": 13,
   "metadata": {},
   "outputs": [],
   "source": [
    "baseURL = 'http://ec2-18-235-248-253.compute-1.amazonaws.com:2990/jira/rest/'\n",
    "loginAPI = 'auth/1/session'\n",
    "userAPI = 'api/2/user?username=alexA'\n",
    "issuePickerAPI = 'api/2/issue/picker?currentJQL=assignee%3Dadmin'\n",
    "biExportAPI = 'getbusinessintelligenceexport/1.0/message'\n",
    "\n",
    "loginUserName = 'admin'\n",
    "loginPassWord = 'admin'\n",
    "\n",
    "analysisStartDate = '01-FEB-19'\n",
    "analysisEndDate = '31-FEB-19'\n",
    "exportDirectory = './downloads/'"
   ]
  },
  {
   "cell_type": "markdown",
   "metadata": {},
   "source": [
    "## Login to Jira"
   ]
  },
  {
   "cell_type": "code",
   "execution_count": 14,
   "metadata": {},
   "outputs": [
    {
     "name": "stdout",
     "output_type": "stream",
     "text": [
      "JSESSIONID: 9505A7F3564FB2488645DCF1575EDC82\n"
     ]
    }
   ],
   "source": [
    "loginURL = baseURL + loginAPI\n",
    "\n",
    "loginData = {\"username\": loginUserName, \"password\": loginPassWord}\n",
    "\n",
    "loginResponse = requests.post(loginURL, json=loginData)\n",
    "\n",
    "if loginResponse.status_code != 200:\n",
    "    raise Exception('POST ' + loginURL + ' {}'.format(loginResonse.status_code))\n",
    "else:\n",
    "    myJSessionID = loginResponse.cookies['JSESSIONID']\n",
    "print('JSESSIONID: ' + myJSessionID)"
   ]
  },
  {
   "cell_type": "markdown",
   "metadata": {},
   "source": [
    "## Request Data"
   ]
  },
  {
   "cell_type": "code",
   "execution_count": 15,
   "metadata": {},
   "outputs": [],
   "source": [
    "url = baseURL + userAPI\n",
    "url = baseURL + issuePickerAPI\n",
    "url = baseURL + biExportAPI + \"?startDate=\" + analysisStartDate + \"&endDate=\" + analysisEndDate\n",
    "\n",
    "myCookie = dict(JSESSIONID=myJSessionID)\n",
    "\n",
    "resp = requests.get(url, cookies=myCookie)\n",
    "\n",
    "if resp.status_code != 200:\n",
    "    raise Exception('GET ' + url + ' {}'.format(resp.status_code))\n",
    "else:\n",
    "    #print(\"resp: {}\".format(resp.json()))\n",
    "    myRecords = resp.json()[\"records\"]\n",
    "    #print(\"myRecords: \" + json.dumps(myRecords))"
   ]
  },
  {
   "cell_type": "markdown",
   "metadata": {},
   "source": [
    "## Save to File"
   ]
  },
  {
   "cell_type": "code",
   "execution_count": 16,
   "metadata": {},
   "outputs": [],
   "source": [
    "df = pd.read_json(json.dumps(myRecords), orient='records')\n",
    "myTimeStamp = datetime.datetime.fromtimestamp(time.time()).strftime('%Y-%m-%d_%H-%M-%S')\n",
    "df.to_csv(exportDirectory + \"records_\" + myTimeStamp + \".csv\")"
   ]
  }
 ],
 "metadata": {
  "kernelspec": {
   "display_name": "Python 3",
   "language": "python",
   "name": "python3"
  },
  "language_info": {
   "codemirror_mode": {
    "name": "ipython",
    "version": 3
   },
   "file_extension": ".py",
   "mimetype": "text/x-python",
   "name": "python",
   "nbconvert_exporter": "python",
   "pygments_lexer": "ipython3",
   "version": "3.6.8"
  }
 },
 "nbformat": 4,
 "nbformat_minor": 2
}
